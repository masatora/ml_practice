{
 "cells": [
  {
   "cell_type": "code",
   "execution_count": null,
   "metadata": {
    "collapsed": true
   },
   "outputs": [],
   "source": [
    "import numpy as np\n",
    "import pandas as pd\n",
    "from pandas import DataFrame, Series\n",
    "from sklearn.metrics.pairwise import cosine_similarity\n",
    "\n",
    "def get_sim_data(data):\n",
    "    sim = DataFrame()\n",
    "    for i in data.columns:\n",
    "        sim[i] = DataFrame(cosine_similarity([data[guest_id]], [data[i]]))\n",
    "\n",
    "    return sim.T.sort_values(by=0, ascending=False).head(11).T\n",
    "\n",
    "def get_rec_data(top10_near):\n",
    "    mult_rec = DataFrame()\n",
    "    for i in top10_near.columns:\n",
    "        if i != guest_id:\n",
    "            mult_rec[i] = data[i] * (1 + top10_near[i][0])\n",
    "\n",
    "    return (mult_rec.T.sum().sort_values(ascending=False)).head(10)\n",
    "\n",
    "#guest_id = int(input('insert a user id : '))\n",
    "guest_id = 1\n",
    "data = pd.read_table('u.data', sep='\\t', usecols=['user id', 'item id', 'rating'])\n",
    "data = data.pivot_table(index='item id', columns='user id', values='rating', fill_value=0)\n",
    "top10_near = get_sim_data(data)\n",
    "get_rec_data(top10_near)\n",
    "#DataFrame((data[data[guest_id] > 0][guest_id]).index)"
   ]
  }
 ],
 "metadata": {
  "kernelspec": {
   "display_name": "Python 3",
   "language": "python",
   "name": "python3"
  },
  "language_info": {
   "codemirror_mode": {
    "name": "ipython",
    "version": 3
   },
   "file_extension": ".py",
   "mimetype": "text/x-python",
   "name": "python",
   "nbconvert_exporter": "python",
   "pygments_lexer": "ipython3",
   "version": "3.5.1"
  }
 },
 "nbformat": 4,
 "nbformat_minor": 0
}
